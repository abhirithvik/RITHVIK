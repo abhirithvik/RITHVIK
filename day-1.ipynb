{
 "cells": [
  {
   "cell_type": "markdown",
   "id": "cf3bd7af",
   "metadata": {},
   "source": [
    "# LITERALS & VARIABLES"
   ]
  },
  {
   "cell_type": "markdown",
   "id": "ddd61469",
   "metadata": {},
   "source": [
    "FOR SAME data veriable of int and str if are assigned of diff veriables"
   ]
  },
  {
   "cell_type": "code",
   "execution_count": null,
   "id": "6965e0d4",
   "metadata": {
    "collapsed": true
   },
   "outputs": [],
   "source": [
    "inno_batch = 248 # using _ in place of space\n",
    "innoBatch = 248 # camel casing"
   ]
  },
  {
   "cell_type": "code",
   "execution_count": 3,
   "id": "aab082a8",
   "metadata": {},
   "outputs": [],
   "source": [
    "import keyword \n",
    "from keyword import kwlist\n"
   ]
  },
  {
   "cell_type": "code",
   "execution_count": 5,
   "id": "d5138b93",
   "metadata": {},
   "outputs": [],
   "source": [
    "a = 10\n",
    "b ='abi'\n",
    "c = 12"
   ]
  },
  {
   "cell_type": "code",
   "execution_count": 3,
   "id": "45fc5e15",
   "metadata": {},
   "outputs": [
    {
     "data": {
      "text/plain": [
       "10"
      ]
     },
     "execution_count": 3,
     "metadata": {},
     "output_type": "execute_result"
    }
   ],
   "source": [
    "a"
   ]
  },
  {
   "cell_type": "code",
   "execution_count": 4,
   "id": "c1705652",
   "metadata": {},
   "outputs": [
    {
     "data": {
      "text/plain": [
       "'abi'"
      ]
     },
     "execution_count": 4,
     "metadata": {},
     "output_type": "execute_result"
    }
   ],
   "source": [
    "b"
   ]
  },
  {
   "cell_type": "code",
   "execution_count": 7,
   "id": "b072c08c",
   "metadata": {},
   "outputs": [
    {
     "name": "stdout",
     "output_type": "stream",
     "text": [
      "10*abi\n"
     ]
    }
   ],
   "source": [
    "print(a,b,sep='*' )"
   ]
  },
  {
   "cell_type": "code",
   "execution_count": 8,
   "id": "57fd527b",
   "metadata": {},
   "outputs": [
    {
     "name": "stdout",
     "output_type": "stream",
     "text": [
      "100\n"
     ]
    }
   ],
   "source": [
    "hight = 10\n",
    "width = 10\n",
    "len = hight*width\n",
    "print(len)\n"
   ]
  },
  {
   "cell_type": "code",
   "execution_count": null,
   "id": "bb41da60",
   "metadata": {},
   "outputs": [],
   "source": []
  }
 ],
 "metadata": {
  "kernelspec": {
   "display_name": "Python 3 (ipykernel)",
   "language": "python",
   "name": "python3"
  },
  "language_info": {
   "codemirror_mode": {
    "name": "ipython",
    "version": 3
   },
   "file_extension": ".py",
   "mimetype": "text/x-python",
   "name": "python",
   "nbconvert_exporter": "python",
   "pygments_lexer": "ipython3",
   "version": "3.11.2"
  }
 },
 "nbformat": 4,
 "nbformat_minor": 5
}
